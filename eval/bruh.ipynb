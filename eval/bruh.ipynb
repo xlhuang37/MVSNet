{
 "cells": [
  {
   "cell_type": "code",
   "execution_count": null,
   "metadata": {},
   "outputs": [],
   "source": []
  }
 ],
 "metadata": {
  "kernelspec": {
   "display_name": "mvsnet",
   "language": "python",
   "name": "python3"
  },
  "language_info": {
   "name": "python",
   "version": "3.10.9"
  },
  "orig_nbformat": 4,
  "vscode": {
   "interpreter": {
    "hash": "001342c73d8b336921a8368b033fea6a6bfd56e5235e37289a1cd819e2617100"
   }
  }
 },
 "nbformat": 4,
 "nbformat_minor": 2
}
